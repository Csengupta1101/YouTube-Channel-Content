{
 "cells": [
  {
   "cell_type": "code",
   "execution_count": 22,
   "id": "d2d0f842",
   "metadata": {},
   "outputs": [
    {
     "name": "stdout",
     "output_type": "stream",
     "text": [
      "*\n",
      "**\n",
      "***\n",
      "****\n"
     ]
    }
   ],
   "source": [
    "#we take i as 0 primariliy\n",
    "#first loop , i =0 , 0+1 =1 *\n",
    "#second loop . i =1 , 1+1 =2 **\n",
    "#third loop . i =1 , 2+1 =3 ***\n",
    "#fourth loop . i =1 , 3+1 =4 ****\n",
    "i = 0\n",
    "for i in range(4):\n",
    "    print('*'*(i+1))"
   ]
  },
  {
   "cell_type": "code",
   "execution_count": null,
   "id": "a3446f5e",
   "metadata": {},
   "outputs": [],
   "source": []
  }
 ],
 "metadata": {
  "kernelspec": {
   "display_name": "Python 3",
   "language": "python",
   "name": "python3"
  },
  "language_info": {
   "codemirror_mode": {
    "name": "ipython",
    "version": 3
   },
   "file_extension": ".py",
   "mimetype": "text/x-python",
   "name": "python",
   "nbconvert_exporter": "python",
   "pygments_lexer": "ipython3",
   "version": "3.6.8"
  }
 },
 "nbformat": 4,
 "nbformat_minor": 5
}
